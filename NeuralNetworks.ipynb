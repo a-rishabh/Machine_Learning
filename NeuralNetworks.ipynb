{
  "cells": [
    {
      "cell_type": "code",
      "execution_count": null,
      "metadata": {
        "id": "N56UfOdkh6CL"
      },
      "outputs": [],
      "source": [
        "import torch\n",
        "import torch.nn as nn\n",
        "import torch.optim as optim\n",
        "from sklearn.datasets import fetch_openml\n",
        "from sklearn.model_selection import train_test_split\n",
        "from sklearn.preprocessing import StandardScaler\n",
        "import numpy as np"
      ]
    },
    {
      "cell_type": "code",
      "execution_count": null,
      "metadata": {
        "colab": {
          "base_uri": "https://localhost:8080/"
        },
        "id": "sSrQYQAYg-8_",
        "outputId": "1fa039de-4518-4520-8482-52277494fdb8"
      },
      "outputs": [
        {
          "output_type": "stream",
          "name": "stderr",
          "text": [
            "/usr/local/lib/python3.10/dist-packages/sklearn/datasets/_openml.py:968: FutureWarning: The default value of `parser` will change from `'liac-arff'` to `'auto'` in 1.4. You can set `parser='auto'` to silence this warning. Therefore, an `ImportError` will be raised from 1.4 if the dataset is dense and pandas is not installed. Note that the pandas parser may return different data types. See the Notes Section in fetch_openml's API doc for details.\n",
            "  warn(\n"
          ]
        }
      ],
      "source": [
        "from sklearn.datasets import fetch_openml\n",
        "mnist_data = fetch_openml(data_id=554)"
      ]
    },
    {
      "cell_type": "markdown",
      "metadata": {
        "id": "68a5XdaoobM4"
      },
      "source": [
        "***Ques 01.***"
      ]
    },
    {
      "cell_type": "code",
      "execution_count": null,
      "metadata": {
        "id": "Cn3FmBhdnRAL"
      },
      "outputs": [],
      "source": [
        "X, y = mnist_data.data, mnist_data.target"
      ]
    },
    {
      "cell_type": "code",
      "execution_count": null,
      "metadata": {
        "id": "kx3GZYacnTja"
      },
      "outputs": [],
      "source": [
        "# Convert data and labels to numpy arrays\n",
        "X = X.to_numpy().astype(float)\n",
        "y = y.to_numpy().astype(int)"
      ]
    },
    {
      "cell_type": "code",
      "execution_count": null,
      "metadata": {
        "id": "5GWCZCCRnVca"
      },
      "outputs": [],
      "source": [
        "# Create a binary label: 1 for lucky (3, 7, 8) and 0 for unlucky\n",
        "y_binary = np.where((y == 3) | (y == 7) | (y == 8), 1, 0)"
      ]
    },
    {
      "cell_type": "code",
      "execution_count": null,
      "metadata": {
        "id": "AL9qgtrOnYMX"
      },
      "outputs": [],
      "source": [
        "# Split the data into training and testing sets\n",
        "X_train, X_test, y_train, y_test = train_test_split(X, y_binary, test_size=0.2, random_state=42)"
      ]
    },
    {
      "cell_type": "code",
      "execution_count": null,
      "metadata": {
        "id": "2cVE5rzch8U0"
      },
      "outputs": [],
      "source": [
        "# Standardize the data\n",
        "scaler = StandardScaler()\n",
        "X_train = scaler.fit_transform(X_train)\n",
        "X_test = scaler.transform(X_test)"
      ]
    },
    {
      "cell_type": "code",
      "execution_count": null,
      "metadata": {
        "id": "j_ek1PzPiCSr"
      },
      "outputs": [],
      "source": [
        "class LogisticRegression(nn.Module):\n",
        "    def __init__(self, input_size):\n",
        "        super(LogisticRegression, self).__init__()\n",
        "        self.linear = nn.Linear(input_size, 1)\n",
        "\n",
        "    def forward(self, x):\n",
        "        out = torch.sigmoid(self.linear(x))\n",
        "        return out"
      ]
    },
    {
      "cell_type": "code",
      "execution_count": null,
      "metadata": {
        "id": "EpwaVaeynd7t"
      },
      "outputs": [],
      "source": [
        "input_size = X_train.shape[1]\n",
        "model = LogisticRegression(input_size)"
      ]
    },
    {
      "cell_type": "code",
      "execution_count": null,
      "metadata": {
        "id": "T-2bG5LUiGxv"
      },
      "outputs": [],
      "source": [
        "criterion = nn.BCELoss()\n",
        "optimizer = optim.SGD(model.parameters(), lr=0.01)\n"
      ]
    },
    {
      "cell_type": "code",
      "execution_count": null,
      "metadata": {
        "colab": {
          "base_uri": "https://localhost:8080/"
        },
        "id": "9xTC6zKRiIm7",
        "outputId": "c30b7e9a-3e06-42d2-ceda-f026c359efc8"
      },
      "outputs": [
        {
          "output_type": "stream",
          "name": "stdout",
          "text": [
            "Epoch [100/1000], Loss: 0.4270\n",
            "Epoch [200/1000], Loss: 0.3860\n",
            "Epoch [300/1000], Loss: 0.3643\n",
            "Epoch [400/1000], Loss: 0.3501\n",
            "Epoch [500/1000], Loss: 0.3399\n",
            "Epoch [600/1000], Loss: 0.3322\n",
            "Epoch [700/1000], Loss: 0.3262\n",
            "Epoch [800/1000], Loss: 0.3214\n",
            "Epoch [900/1000], Loss: 0.3175\n",
            "Epoch [1000/1000], Loss: 0.3142\n",
            "Training complete\n"
          ]
        }
      ],
      "source": [
        "num_epochs = 1000\n",
        "\n",
        "for epoch in range(num_epochs):\n",
        "    inputs = torch.from_numpy(X_train).float()\n",
        "    labels = torch.from_numpy(y_train).float()\n",
        "\n",
        "    # Forward pass\n",
        "    outputs = model(inputs)\n",
        "    loss = criterion(outputs, labels.view(-1, 1))\n",
        "\n",
        "    # Backward pass and optimization\n",
        "    optimizer.zero_grad()\n",
        "    loss.backward()\n",
        "    optimizer.step()\n",
        "\n",
        "    if (epoch + 1) % 100 == 0:\n",
        "        print(f'Epoch [{epoch + 1}/{num_epochs}], Loss: {loss.item():.4f}')\n",
        "\n",
        "print(\"Training complete\")\n"
      ]
    },
    {
      "cell_type": "code",
      "execution_count": null,
      "metadata": {
        "id": "eyA7k_NZiK2z",
        "colab": {
          "base_uri": "https://localhost:8080/"
        },
        "outputId": "154cfbca-7c37-4e6f-8718-f71b342c37ee"
      },
      "outputs": [
        {
          "output_type": "stream",
          "name": "stdout",
          "text": [
            "Test Accuracy: 0.8747\n"
          ]
        }
      ],
      "source": [
        "model.eval()\n",
        "with torch.no_grad():\n",
        "    test_inputs = torch.from_numpy(X_test).float()\n",
        "    test_labels = torch.from_numpy(y_test).float()\n",
        "\n",
        "    # Predict\n",
        "    predictions = model(test_inputs)\n",
        "    predictions = (predictions > 0.5).float()\n",
        "\n",
        "    # Calculate accuracy\n",
        "    accuracy = (predictions == test_labels.view(-1, 1)).sum().item() / len(test_labels)\n",
        "    print(f\"Test Accuracy: {accuracy:.4f}\")\n"
      ]
    },
    {
      "cell_type": "markdown",
      "metadata": {
        "id": "cNIdQlL9s7f5"
      },
      "source": [
        "**Model Analysis**\n",
        "- import the libraries and reprocess the loaded data\n",
        "- define the logistic regression model, loss and optimizer function using neyral network\n",
        "- Train & test the model based on labels\n",
        "\n",
        "**Analysis**\n",
        "- The model has an accuracy of 87% with imbalanced data using logistic regression\n",
        "- The model does not perform qually well on all three lucky numbers because of imbalacing of datapoints in our datasets. There might more datapoints of one specific lucky number compared to the other two."
      ]
    },
    {
      "cell_type": "markdown",
      "metadata": {
        "id": "SFdvqLd1pkR4"
      },
      "source": [
        "***Ques 02.***"
      ]
    },
    {
      "cell_type": "code",
      "execution_count": null,
      "metadata": {
        "id": "aCkcoyNWooyf"
      },
      "outputs": [],
      "source": [
        "from sklearn.neighbors import KNeighborsClassifier\n",
        "from sklearn.metrics import accuracy_score, f1_score, roc_curve, roc_auc_score"
      ]
    },
    {
      "cell_type": "code",
      "source": [
        "knn_model = KNeighborsClassifier(n_neighbors=5)  # You can adjust the number of neighbors as needed"
      ],
      "metadata": {
        "id": "ecvdaQtf3QFX"
      },
      "execution_count": null,
      "outputs": []
    },
    {
      "cell_type": "code",
      "source": [
        "# Fit the model to the training data\n",
        "knn_model.fit(X_train, y_train)"
      ],
      "metadata": {
        "colab": {
          "base_uri": "https://localhost:8080/",
          "height": 74
        },
        "id": "oLz9kKcw3Sza",
        "outputId": "9cde0cfd-3da6-430c-ba9a-916a6e0db166"
      },
      "execution_count": null,
      "outputs": [
        {
          "output_type": "execute_result",
          "data": {
            "text/plain": [
              "KNeighborsClassifier()"
            ],
            "text/html": [
              "<style>#sk-container-id-1 {color: black;background-color: white;}#sk-container-id-1 pre{padding: 0;}#sk-container-id-1 div.sk-toggleable {background-color: white;}#sk-container-id-1 label.sk-toggleable__label {cursor: pointer;display: block;width: 100%;margin-bottom: 0;padding: 0.3em;box-sizing: border-box;text-align: center;}#sk-container-id-1 label.sk-toggleable__label-arrow:before {content: \"▸\";float: left;margin-right: 0.25em;color: #696969;}#sk-container-id-1 label.sk-toggleable__label-arrow:hover:before {color: black;}#sk-container-id-1 div.sk-estimator:hover label.sk-toggleable__label-arrow:before {color: black;}#sk-container-id-1 div.sk-toggleable__content {max-height: 0;max-width: 0;overflow: hidden;text-align: left;background-color: #f0f8ff;}#sk-container-id-1 div.sk-toggleable__content pre {margin: 0.2em;color: black;border-radius: 0.25em;background-color: #f0f8ff;}#sk-container-id-1 input.sk-toggleable__control:checked~div.sk-toggleable__content {max-height: 200px;max-width: 100%;overflow: auto;}#sk-container-id-1 input.sk-toggleable__control:checked~label.sk-toggleable__label-arrow:before {content: \"▾\";}#sk-container-id-1 div.sk-estimator input.sk-toggleable__control:checked~label.sk-toggleable__label {background-color: #d4ebff;}#sk-container-id-1 div.sk-label input.sk-toggleable__control:checked~label.sk-toggleable__label {background-color: #d4ebff;}#sk-container-id-1 input.sk-hidden--visually {border: 0;clip: rect(1px 1px 1px 1px);clip: rect(1px, 1px, 1px, 1px);height: 1px;margin: -1px;overflow: hidden;padding: 0;position: absolute;width: 1px;}#sk-container-id-1 div.sk-estimator {font-family: monospace;background-color: #f0f8ff;border: 1px dotted black;border-radius: 0.25em;box-sizing: border-box;margin-bottom: 0.5em;}#sk-container-id-1 div.sk-estimator:hover {background-color: #d4ebff;}#sk-container-id-1 div.sk-parallel-item::after {content: \"\";width: 100%;border-bottom: 1px solid gray;flex-grow: 1;}#sk-container-id-1 div.sk-label:hover label.sk-toggleable__label {background-color: #d4ebff;}#sk-container-id-1 div.sk-serial::before {content: \"\";position: absolute;border-left: 1px solid gray;box-sizing: border-box;top: 0;bottom: 0;left: 50%;z-index: 0;}#sk-container-id-1 div.sk-serial {display: flex;flex-direction: column;align-items: center;background-color: white;padding-right: 0.2em;padding-left: 0.2em;position: relative;}#sk-container-id-1 div.sk-item {position: relative;z-index: 1;}#sk-container-id-1 div.sk-parallel {display: flex;align-items: stretch;justify-content: center;background-color: white;position: relative;}#sk-container-id-1 div.sk-item::before, #sk-container-id-1 div.sk-parallel-item::before {content: \"\";position: absolute;border-left: 1px solid gray;box-sizing: border-box;top: 0;bottom: 0;left: 50%;z-index: -1;}#sk-container-id-1 div.sk-parallel-item {display: flex;flex-direction: column;z-index: 1;position: relative;background-color: white;}#sk-container-id-1 div.sk-parallel-item:first-child::after {align-self: flex-end;width: 50%;}#sk-container-id-1 div.sk-parallel-item:last-child::after {align-self: flex-start;width: 50%;}#sk-container-id-1 div.sk-parallel-item:only-child::after {width: 0;}#sk-container-id-1 div.sk-dashed-wrapped {border: 1px dashed gray;margin: 0 0.4em 0.5em 0.4em;box-sizing: border-box;padding-bottom: 0.4em;background-color: white;}#sk-container-id-1 div.sk-label label {font-family: monospace;font-weight: bold;display: inline-block;line-height: 1.2em;}#sk-container-id-1 div.sk-label-container {text-align: center;}#sk-container-id-1 div.sk-container {/* jupyter's `normalize.less` sets `[hidden] { display: none; }` but bootstrap.min.css set `[hidden] { display: none !important; }` so we also need the `!important` here to be able to override the default hidden behavior on the sphinx rendered scikit-learn.org. See: https://github.com/scikit-learn/scikit-learn/issues/21755 */display: inline-block !important;position: relative;}#sk-container-id-1 div.sk-text-repr-fallback {display: none;}</style><div id=\"sk-container-id-1\" class=\"sk-top-container\"><div class=\"sk-text-repr-fallback\"><pre>KNeighborsClassifier()</pre><b>In a Jupyter environment, please rerun this cell to show the HTML representation or trust the notebook. <br />On GitHub, the HTML representation is unable to render, please try loading this page with nbviewer.org.</b></div><div class=\"sk-container\" hidden><div class=\"sk-item\"><div class=\"sk-estimator sk-toggleable\"><input class=\"sk-toggleable__control sk-hidden--visually\" id=\"sk-estimator-id-1\" type=\"checkbox\" checked><label for=\"sk-estimator-id-1\" class=\"sk-toggleable__label sk-toggleable__label-arrow\">KNeighborsClassifier</label><div class=\"sk-toggleable__content\"><pre>KNeighborsClassifier()</pre></div></div></div></div></div>"
            ]
          },
          "metadata": {},
          "execution_count": 23
        }
      ]
    },
    {
      "cell_type": "code",
      "source": [
        "y_pred = knn_model.predict(X_test)"
      ],
      "metadata": {
        "id": "jadICgn53Vzc"
      },
      "execution_count": null,
      "outputs": []
    },
    {
      "cell_type": "code",
      "source": [
        "accuracy = accuracy_score(y_test, y_pred)\n",
        "print(f\"Test Accuracy: {accuracy:.4f}\")"
      ],
      "metadata": {
        "colab": {
          "base_uri": "https://localhost:8080/"
        },
        "id": "FQRImLGe3YMK",
        "outputId": "99c040fd-bbaa-4082-dd3c-99e28a4d5a59"
      },
      "execution_count": null,
      "outputs": [
        {
          "output_type": "stream",
          "name": "stdout",
          "text": [
            "Test Accuracy: 0.9709\n"
          ]
        }
      ]
    },
    {
      "cell_type": "markdown",
      "metadata": {
        "id": "At3OYcO2s6Uh"
      },
      "source": [
        "**Analysis**\n",
        "- I used KNN model to predict my datapoint labels\n",
        "- The accuracy for this model turned out to be 97% with imbalanced data"
      ]
    },
    {
      "cell_type": "markdown",
      "metadata": {
        "id": "TnaO7g7Ipz-K"
      },
      "source": [
        "**Qued 2 (a)**"
      ]
    },
    {
      "cell_type": "code",
      "execution_count": null,
      "metadata": {
        "id": "073_oaUQp7_g"
      },
      "outputs": [],
      "source": [
        "import matplotlib.pyplot as plt"
      ]
    },
    {
      "cell_type": "code",
      "execution_count": null,
      "metadata": {
        "id": "FjPZgvW8p9WB"
      },
      "outputs": [],
      "source": [
        "# For Logistic Regression model\n",
        "predictions_lr = model(test_inputs)\n",
        "predictions_lr = (predictions_lr > 0.5).float()\n",
        "accuracy_lr = accuracy_score(y_test, predictions_lr)\n",
        "f1_lr = f1_score(y_test, predictions_lr)\n",
        "fpr_lr, tpr_lr, _ = roc_curve(y_test, predictions_lr)\n",
        "roc_auc_lr = roc_auc_score(y_test, predictions_lr)"
      ]
    },
    {
      "cell_type": "code",
      "execution_count": null,
      "metadata": {
        "id": "O7QMpjTAqBR-",
        "colab": {
          "base_uri": "https://localhost:8080/"
        },
        "outputId": "6d7a9f4e-adbb-4fea-e715-e181b70724bc"
      },
      "outputs": [
        {
          "output_type": "stream",
          "name": "stdout",
          "text": [
            "Logistic Regression:\n",
            "Accuracy: 0.8747\n",
            "F1 Score: 0.7967\n",
            "ROC AUC: 0.8540\n"
          ]
        }
      ],
      "source": [
        "# Print and compare the metrics\n",
        "print(\"Logistic Regression:\")\n",
        "print(f\"Accuracy: {accuracy_lr:.4f}\")\n",
        "print(f\"F1 Score: {f1_lr:.4f}\")\n",
        "print(f\"ROC AUC: {roc_auc_lr:.4f}\")"
      ]
    },
    {
      "cell_type": "code",
      "execution_count": null,
      "metadata": {
        "id": "wtaaw3ynp_AL"
      },
      "outputs": [],
      "source": [
        "# For KNN model\n",
        "y_pred_knn = knn_model.predict(X_test)\n",
        "accuracy_knn = accuracy_score(y_test, y_pred)\n",
        "f1_knn = f1_score(y_test, y_pred)\n",
        "fpr, tpr, _ = roc_curve(y_test, y_pred)\n",
        "roc_auc = roc_auc_score(y_test, y_pred)"
      ]
    },
    {
      "cell_type": "code",
      "execution_count": null,
      "metadata": {
        "id": "v2dvdlUsqC5d",
        "colab": {
          "base_uri": "https://localhost:8080/"
        },
        "outputId": "2feb0c04-0249-47f1-f7e2-7a1004fa4841"
      },
      "outputs": [
        {
          "output_type": "stream",
          "name": "stdout",
          "text": [
            "\n",
            "KNN:\n",
            "Accuracy: 0.9709\n",
            "F1 Score: 0.9520\n",
            "ROC AUC: 0.9626\n"
          ]
        }
      ],
      "source": [
        "print(\"\\nKNN:\")\n",
        "print(f\"Accuracy: {accuracy:.4f}\")\n",
        "print(f\"F1 Score: {f1_knn:.4f}\")\n",
        "print(f\"ROC AUC: {roc_auc:.4f}\")"
      ]
    },
    {
      "cell_type": "code",
      "execution_count": null,
      "metadata": {
        "id": "knvclei_p6Pc",
        "colab": {
          "base_uri": "https://localhost:8080/",
          "height": 472
        },
        "outputId": "690abdf9-77ec-4d56-d4f4-fc9a13f874a0"
      },
      "outputs": [
        {
          "output_type": "display_data",
          "data": {
            "text/plain": [
              "<Figure size 640x480 with 1 Axes>"
            ],
            "image/png": "[encoded data removed]"
          },
          "metadata": {}
        }
      ],
      "source": [
        "# Plot ROC curves\n",
        "plt.figure()\n",
        "plt.plot(fpr_lr, tpr_lr, color='darkorange', lw=2, label='Logistic Regression ROC curve (area = {:.2f})'.format(roc_auc_lr))\n",
        "plt.plot(fpr, tpr, color='blue', lw=2, label='KNN ROC curve (area = {:.2f})'.format(roc_auc))\n",
        "plt.plot([0, 1], [0, 1], color='gray', linestyle='--')\n",
        "plt.xlim([0.0, 1.0])\n",
        "plt.ylim([0.0, 1.05])\n",
        "plt.xlabel('False Positive Rate')\n",
        "plt.ylabel('True Positive Rate')\n",
        "plt.title('Receiver Operating Characteristic')\n",
        "plt.legend(loc='lower right')\n",
        "plt.show()\n"
      ]
    },
    {
      "cell_type": "markdown",
      "metadata": {
        "id": "xHOWOf-Xs5Cb"
      },
      "source": [
        "**Analysis**\n",
        "- Although the complex nature of logistic regression, KNN still outperforms it by a lot since complexity can define more features precisely but it doesn't mean, it's a better analysis method."
      ]
    },
    {
      "cell_type": "markdown",
      "metadata": {
        "id": "thQVHmnhsWbW"
      },
      "source": [
        "**Que 2 Extra Credit**<br>\n",
        "Using SVM technique for our predictions"
      ]
    },
    {
      "cell_type": "code",
      "source": [
        "from sklearn.svm import SVC"
      ],
      "metadata": {
        "id": "uUmhOjWIBHo2"
      },
      "execution_count": null,
      "outputs": []
    },
    {
      "cell_type": "code",
      "source": [
        "svm_model = SVC(kernel='linear', C=1.0)  # You can try different kernels and hyperparameters\n",
        "\n",
        "# Fit the model to the training data\n",
        "svm_model.fit(X_train, y_train)"
      ],
      "metadata": {
        "id": "3U3x7yGzBQDx"
      },
      "execution_count": null,
      "outputs": []
    },
    {
      "cell_type": "code",
      "source": [
        "y_pred_svm = svm_model.predict(X_test)\n",
        "\n",
        "accuracy = accuracy_score(y_test, y_pred_svm)\n",
        "print(f\"Test Accuracy: {accuracy:.4f}\")"
      ],
      "metadata": {
        "id": "WPMGZ6BXBUHd"
      },
      "execution_count": null,
      "outputs": []
    },
    {
      "cell_type": "markdown",
      "metadata": {
        "id": "XckWZbJAsu9G"
      },
      "source": [
        "**Analysis**\n",
        "- This model is still comparable with Logistic Regression approach, resulting in the clear verdict of complexity vs perfromance trade off lying in a gray area."
      ]
    },
    {
      "cell_type": "markdown",
      "metadata": {
        "id": "dd1kS6agtYG9"
      },
      "source": [
        "***Ques 03.***"
      ]
    },
    {
      "cell_type": "code",
      "execution_count": null,
      "metadata": {
        "id": "f6_t_xrNta7g"
      },
      "outputs": [],
      "source": [
        "class NeuralNetwork(nn.Module):\n",
        "    def __init__(self, input_size, hidden_size, num_classes):\n",
        "        super(NeuralNetwork, self).__init__()\n",
        "        self.fc1 = nn.Linear(input_size, hidden_size)\n",
        "        self.relu = nn.ReLU()\n",
        "        self.fc2 = nn.Linear(hidden_size, num_classes)\n",
        "\n",
        "    def forward(self, x):\n",
        "        out = self.fc1(x)\n",
        "        out = self.relu(out)\n",
        "        out = self.fc2(out)\n",
        "        return out\n"
      ]
    },
    {
      "cell_type": "code",
      "execution_count": null,
      "metadata": {
        "id": "iXRkVV9EtleZ"
      },
      "outputs": [],
      "source": [
        "input_size = X_train.shape[1]\n",
        "hidden_size = 128\n",
        "num_classes = 10  # There are 10 classes (digits 0-9)"
      ]
    },
    {
      "cell_type": "code",
      "execution_count": null,
      "metadata": {
        "id": "vNJMQG7Wtml8"
      },
      "outputs": [],
      "source": [
        "model = NeuralNetwork(input_size, hidden_size, num_classes)"
      ]
    },
    {
      "cell_type": "code",
      "execution_count": null,
      "metadata": {
        "id": "804oOWqLte3c"
      },
      "outputs": [],
      "source": [
        "criterion = nn.CrossEntropyLoss()\n",
        "optimizer = optim.Adam(model.parameters(), lr=0.01)"
      ]
    },
    {
      "cell_type": "code",
      "execution_count": null,
      "metadata": {
        "id": "GYbotIGrtgsx",
        "colab": {
          "base_uri": "https://localhost:8080/"
        },
        "outputId": "38c16f37-48c2-4ee7-c117-c63ab08268d1"
      },
      "outputs": [
        {
          "output_type": "stream",
          "name": "stdout",
          "text": [
            "Epoch [10/100], Loss: 0.3707\n",
            "Epoch [20/100], Loss: 0.1831\n",
            "Epoch [30/100], Loss: 0.1148\n",
            "Epoch [40/100], Loss: 0.0877\n",
            "Epoch [50/100], Loss: 0.0725\n",
            "Epoch [60/100], Loss: 0.0623\n",
            "Epoch [70/100], Loss: 0.0541\n",
            "Epoch [80/100], Loss: 0.0470\n",
            "Epoch [90/100], Loss: 0.0408\n",
            "Epoch [100/100], Loss: 0.0352\n",
            "Training complete\n"
          ]
        }
      ],
      "source": [
        "num_epochs = 100\n",
        "\n",
        "for epoch in range(num_epochs):\n",
        "    inputs = torch.from_numpy(X_train).float()\n",
        "    labels = torch.from_numpy(y_train).long()\n",
        "\n",
        "    # Forward pass\n",
        "    outputs = model(inputs)\n",
        "    loss = criterion(outputs, labels)\n",
        "\n",
        "    # Backward pass and optimization\n",
        "    optimizer.zero_grad()\n",
        "    loss.backward()\n",
        "    optimizer.step()\n",
        "\n",
        "    if (epoch + 1) % 10 == 0:\n",
        "        print(f'Epoch [{epoch + 1}/{num_epochs}], Loss: {loss.item():.4f}')\n",
        "\n",
        "print(\"Training complete\")"
      ]
    },
    {
      "cell_type": "code",
      "execution_count": null,
      "metadata": {
        "id": "5IquamXGtiyA",
        "colab": {
          "base_uri": "https://localhost:8080/"
        },
        "outputId": "fb50a491-8b6d-4d1f-8d4a-6240c28edde8"
      },
      "outputs": [
        {
          "output_type": "stream",
          "name": "stdout",
          "text": [
            "Test Accuracy: 0.9696\n"
          ]
        }
      ],
      "source": [
        "model.eval()\n",
        "with torch.no_grad():\n",
        "    test_inputs = torch.from_numpy(X_test).float()\n",
        "    test_labels = torch.from_numpy(y_test).long()\n",
        "\n",
        "    # Predict\n",
        "    outputs = model(test_inputs)\n",
        "    _, predicted = torch.max(outputs, 1)\n",
        "\n",
        "    # Calculate accuracy\n",
        "    accuracy = (predicted == test_labels).sum().item() / len(test_labels)\n",
        "    print(f\"Test Accuracy: {accuracy:.4f}\")\n"
      ]
    },
    {
      "cell_type": "markdown",
      "metadata": {
        "id": "VwjGXqQFuPJ3"
      },
      "source": [
        "**Analysis**\n",
        "- The neural network consists of two fully connected (dense) layers.\n",
        "- The first layer (fc1) has input_size input features and hidden_size output features with a ReLU activation function.\n",
        "- The second layer (fc2) has hidden_size input features and num_classes output features, which correspond to the 10 classes (digits 0-9).\n",
        "- Cross-entropy loss is used as the loss function, and the Adam optimizer is employed for training.\n",
        "- My neural network model has an accuracy of ~97% with 100 epochs and other above chose hyperparameters such as 0.01 learning rate."
      ]
    },
    {
      "cell_type": "markdown",
      "metadata": {
        "id": "iBxNaBDiuRyH"
      },
      "source": [
        "***Ques 04.**"
      ]
    },
    {
      "cell_type": "markdown",
      "metadata": {
        "id": "EeJjTvu7uVc_"
      },
      "source": [
        "**Part A.**"
      ]
    },
    {
      "cell_type": "code",
      "execution_count": null,
      "metadata": {
        "id": "1GF5jh90urX7"
      },
      "outputs": [],
      "source": [
        "import torchvision"
      ]
    },
    {
      "cell_type": "code",
      "execution_count": null,
      "metadata": {
        "id": "1Afqdw3quw4k",
        "colab": {
          "base_uri": "https://localhost:8080/"
        },
        "outputId": "e0734766-758f-40fc-e50a-64e7bd9159e1"
      },
      "outputs": [
        {
          "output_type": "execute_result",
          "data": {
            "text/plain": [
              "NeuralNetwork(\n",
              "  (fc1): Linear(in_features=784, out_features=128, bias=True)\n",
              "  (relu): ReLU()\n",
              "  (fc2): Linear(in_features=128, out_features=10, bias=True)\n",
              ")"
            ]
          },
          "metadata": {},
          "execution_count": 83
        }
      ],
      "source": [
        "# Set the model to evaluation mode\n",
        "model.eval()"
      ]
    },
    {
      "cell_type": "code",
      "execution_count": null,
      "metadata": {
        "id": "uoEeM-d8u0A7"
      },
      "outputs": [],
      "source": [
        "# Convert the test data to PyTorch tensors\n",
        "test_inputs = torch.from_numpy(X_test).float()"
      ]
    },
    {
      "cell_type": "code",
      "execution_count": null,
      "metadata": {
        "id": "p0aY2wmku1zi"
      },
      "outputs": [],
      "source": [
        "# Make predictions\n",
        "with torch.no_grad():\n",
        "    outputs = model(test_inputs)\n",
        "    probabilities, predicted = torch.max(torch.nn.functional.softmax(outputs, dim=1), 1)"
      ]
    },
    {
      "cell_type": "code",
      "execution_count": null,
      "metadata": {
        "id": "_-zEiCv7u4KZ"
      },
      "outputs": [],
      "source": [
        "# Create a dictionary to store the most confident predictions for each digit\n",
        "most_confident_samples = {digit: None for digit in range(10)}\n",
        "highest_confidence = [-1.0] * 10"
      ]
    },
    {
      "cell_type": "code",
      "execution_count": null,
      "metadata": {
        "id": "vukr90GOu5w9"
      },
      "outputs": [],
      "source": [
        "# Iterate through the test set and find the most confident predictions for each digit\n",
        "for i in range(len(test_inputs)):\n",
        "    confidence = probabilities[i].item()\n",
        "    if confidence > highest_confidence[predicted[i].item()]:\n",
        "        highest_confidence[predicted[i].item()] = confidence\n",
        "        most_confident_samples[predicted[i].item()] = test_inputs[i]"
      ]
    },
    {
      "cell_type": "code",
      "execution_count": null,
      "metadata": {
        "id": "5S5JMptGuYrl",
        "colab": {
          "base_uri": "https://localhost:8080/",
          "height": 1000
        },
        "outputId": "c3ec1a14-9756-4593-dd84-6701869cd639"
      },
      "outputs": [
        {
          "output_type": "display_data",
          "data": {
            "text/plain": [
              "<Figure size 640x480 with 1 Axes>"
            ],
            "image/png": "[encoded data removed]"
          },
          "metadata": {}
        },
        {
          "output_type": "display_data",
          "data": {
            "text/plain": [
              "<Figure size 640x480 with 1 Axes>"
            ],
            "image/png": "[encoded data removed]"
          },
          "metadata": {}
        },
        {
          "output_type": "stream",
          "name": "stdout",
          "text": [
            "No confident prediction found for digit 2\n",
            "No confident prediction found for digit 3\n",
            "No confident prediction found for digit 4\n",
            "No confident prediction found for digit 5\n",
            "No confident prediction found for digit 6\n",
            "No confident prediction found for digit 7\n",
            "No confident prediction found for digit 8\n",
            "No confident prediction found for digit 9\n"
          ]
        }
      ],
      "source": [
        "# Display the most confident predictions\n",
        "for digit, sample in most_confident_samples.items():\n",
        "    if sample is not None:\n",
        "      plt.figure()\n",
        "      plt.title(f\"Most Confident Prediction for Digit {digit}\")\n",
        "      sample = sample.view(28, 28)  # Reshape to the original image size\n",
        "      plt.imshow(sample.numpy(), cmap='gray')\n",
        "      plt.show()\n",
        "    else:\n",
        "        print(f\"No confident prediction found for digit {digit}\")"
      ]
    },
    {
      "cell_type": "markdown",
      "metadata": {
        "id": "y9NuWOKHuZiV"
      },
      "source": [
        "**Part B.**"
      ]
    },
    {
      "cell_type": "code",
      "execution_count": null,
      "metadata": {
        "id": "zS3YqSZqu9om"
      },
      "outputs": [],
      "source": [
        "from sklearn.metrics import confusion_matrix"
      ]
    },
    {
      "cell_type": "code",
      "execution_count": null,
      "metadata": {
        "id": "WyGegB6fu_v0"
      },
      "outputs": [],
      "source": [
        "# Convert the PyTorch tensor predictions to numpy arrays\n",
        "y_pred = predicted.numpy()\n",
        "y_true = y_test"
      ]
    },
    {
      "cell_type": "code",
      "execution_count": null,
      "metadata": {
        "id": "8-tDRUT9vBQY"
      },
      "outputs": [],
      "source": [
        "# Create the confusion matrix\n",
        "conf_matrix = confusion_matrix(y_true, y_pred)"
      ]
    },
    {
      "cell_type": "code",
      "execution_count": null,
      "metadata": {
        "id": "49vAqG-nvC5j",
        "colab": {
          "base_uri": "https://localhost:8080/"
        },
        "outputId": "36e61d13-70fe-4be5-b022-9a0d9bb5e11d"
      },
      "outputs": [
        {
          "output_type": "stream",
          "name": "stdout",
          "text": [
            "Confusion Matrix:\n",
            "[[9518  189]\n",
            " [ 237 4056]]\n"
          ]
        }
      ],
      "source": [
        "# Display the confusion matrix\n",
        "print(\"Confusion Matrix:\")\n",
        "print(conf_matrix)"
      ]
    },
    {
      "cell_type": "code",
      "execution_count": null,
      "metadata": {
        "id": "ni7XuXz0vEfz"
      },
      "outputs": [],
      "source": [
        "# Find the five most common misclassifications\n",
        "misclassified_indices = np.where(y_pred != y_true)[0]\n",
        "misclassification_count = {}"
      ]
    },
    {
      "cell_type": "code",
      "execution_count": null,
      "metadata": {
        "id": "PjOOepMYvGbl"
      },
      "outputs": [],
      "source": [
        "for idx in misclassified_indices:\n",
        "    true_label = y_true[idx]\n",
        "    predicted_label = y_pred[idx]\n",
        "    key = (true_label, predicted_label)\n",
        "    misclassification_count[key] = misclassification_count.get(key, 0) + 1"
      ]
    },
    {
      "cell_type": "code",
      "execution_count": null,
      "metadata": {
        "id": "iATVc9phvH2k"
      },
      "outputs": [],
      "source": [
        "sorted_misclassifications = sorted(misclassification_count.items(), key=lambda x: x[1], reverse=True)"
      ]
    },
    {
      "cell_type": "code",
      "execution_count": null,
      "metadata": {
        "id": "JZWxj1OQubdG",
        "colab": {
          "base_uri": "https://localhost:8080/",
          "height": 1000
        },
        "outputId": "5da8f989-f275-44e2-9ff9-dbcf354c907f"
      },
      "outputs": [
        {
          "output_type": "stream",
          "name": "stdout",
          "text": [
            "\n",
            "Misclassification 1 (True Label: 1, Predicted Label: 0, Count: 237):\n"
          ]
        },
        {
          "output_type": "display_data",
          "data": {
            "text/plain": [
              "<Figure size 640x480 with 1 Axes>"
            ],
            "image/png": "[encoded data removed]"
          },
          "metadata": {}
        },
        {
          "output_type": "display_data",
          "data": {
            "text/plain": [
              "<Figure size 640x480 with 1 Axes>"
            ],
            "image/png": "[encoded data removed]"
          },
          "metadata": {}
        },
        {
          "output_type": "display_data",
          "data": {
            "text/plain": [
              "<Figure size 640x480 with 1 Axes>"
            ],
            "image/png": "[encoded data removed]"
          },
          "metadata": {}
        },
        {
          "output_type": "stream",
          "name": "stdout",
          "text": [
            "\n",
            "Misclassification 2 (True Label: 0, Predicted Label: 1, Count: 189):\n"
          ]
        },
        {
          "output_type": "display_data",
          "data": {
            "text/plain": [
              "<Figure size 640x480 with 1 Axes>"
            ],
            "image/png": "[encoded data removed]"
          },
          "metadata": {}
        },
        {
          "output_type": "display_data",
          "data": {
            "text/plain": [
              "<Figure size 640x480 with 1 Axes>"
            ],
            "image/png": "[encoded data removed]"
          },
          "metadata": {}
        },
        {
          "output_type": "display_data",
          "data": {
            "text/plain": [
              "<Figure size 640x480 with 1 Axes>"
            ],
            "image/png": "[encoded data removed]"
          },
          "metadata": {}
        }
      ],
      "source": [
        "# Display examples of misclassified digits for the five most common cases\n",
        "for i, (misclassified_case, count) in enumerate(sorted_misclassifications[:5]):\n",
        "    true_label, predicted_label = misclassified_case\n",
        "    indices = np.where((y_true == true_label) & (y_pred == predicted_label))[0]\n",
        "\n",
        "    print(f\"\\nMisclassification {i + 1} (True Label: {true_label}, Predicted Label: {predicted_label}, Count: {count}):\")\n",
        "    for idx in indices[:3]:  # Display up to 3 examples for each case\n",
        "        plt.figure()\n",
        "        plt.title(f\"True: {true_label}, Predicted: {predicted_label}\")\n",
        "        sample = X_test[idx].reshape(28, 28)\n",
        "        plt.imshow(sample, cmap='gray')\n",
        "        plt.show()\n"
      ]
    },
    {
      "cell_type": "markdown",
      "metadata": {
        "id": "NjU4Ch5dvaeE"
      },
      "source": [
        "**Analysis**"
      ]
    },
    {
      "cell_type": "markdown",
      "metadata": {
        "id": "L07b_3ULueYT"
      },
      "source": [
        "**Part C. - Extra Credit**"
      ]
    },
    {
      "cell_type": "code",
      "execution_count": null,
      "metadata": {
        "id": "n17oFYHZuh3K"
      },
      "outputs": [],
      "source": [
        "pip install gradio"
      ]
    },
    {
      "cell_type": "code",
      "source": [
        "!pip install typing-extensions --upgrade"
      ],
      "metadata": {
        "colab": {
          "base_uri": "https://localhost:8080/"
        },
        "id": "M4o-WcEEFQOo",
        "outputId": "48bfe887-c844-4362-d59a-665757657238"
      },
      "execution_count": null,
      "outputs": [
        {
          "output_type": "stream",
          "name": "stdout",
          "text": [
            "Requirement already satisfied: typing-extensions in /usr/local/lib/python3.10/dist-packages (4.8.0)\n"
          ]
        }
      ]
    },
    {
      "cell_type": "code",
      "source": [
        "!pip install gradio --upgrade\n"
      ],
      "metadata": {
        "id": "_1f0zjmGFI2Y"
      },
      "execution_count": null,
      "outputs": []
    },
    {
      "cell_type": "code",
      "execution_count": null,
      "metadata": {
        "id": "HdwC_2lmvQwL"
      },
      "outputs": [],
      "source": [
        "# import gradio as gr\n",
        "import torchvision.transforms as transforms\n",
        "from PIL import Image"
      ]
    },
    {
      "cell_type": "code",
      "execution_count": null,
      "metadata": {
        "id": "LOuX_wzpvSUX"
      },
      "outputs": [],
      "source": [
        "# Load the trained model\n",
        "model = torch.load(knn_model)\n",
        "model.eval()"
      ]
    },
    {
      "cell_type": "code",
      "execution_count": null,
      "metadata": {
        "id": "UfcbxkD3vUH1"
      },
      "outputs": [],
      "source": [
        "# Define the preprocessing function\n",
        "def preprocess(image):\n",
        "    image = Image.fromarray(image)\n",
        "    transform = transforms.Compose([\n",
        "        transforms.Grayscale(num_output_channels=1),\n",
        "        transforms.Resize((28, 28)),\n",
        "        transforms.ToTensor(),\n",
        "    ])\n",
        "    image = transform(image)\n",
        "    image = 1 - image  # Invert black and white\n",
        "    return image"
      ]
    },
    {
      "cell_type": "code",
      "execution_count": null,
      "metadata": {
        "id": "dsaF6vB5vVkR"
      },
      "outputs": [],
      "source": [
        "# Define the prediction function\n",
        "def predict(image):\n",
        "    image = preprocess(image)\n",
        "    image = image.unsqueeze(0)  # Add batch dimension\n",
        "    with torch.no_grad():\n",
        "        outputs = model(image)\n",
        "        _, predicted = torch.max(outputs, 1)\n",
        "    return int(predicted)\n"
      ]
    },
    {
      "cell_type": "code",
      "execution_count": null,
      "metadata": {
        "id": "9ZuiStzjumz8"
      },
      "outputs": [],
      "source": [
        "# Create the Gradio interface\n",
        "iface = gr.Interface(\n",
        "    fn=predict,\n",
        "    inputs=\"sketchpad\",\n",
        "    outputs=\"number\",\n",
        "    live=True,\n",
        "    capture_session=True,\n",
        ")\n",
        "\n",
        "iface.launch()"
      ]
    },
    {
      "cell_type": "markdown",
      "metadata": {
        "id": "JHwA28WTvd4M"
      },
      "source": [
        "**Analysis:** <br>\n",
        "*Capabilities:*<br>\n",
        "- The model is capable of classifying digits into one of the 10 classes (0-9), providing a multi-class classification solution.\n",
        "- We can interactively explore the model's predictions by drawing different digits and observing the corresponding classifications.\n",
        "\n",
        "*Limitations:*<br>\n",
        "- The system relies on a pretrained PyTorch model for digit classification. The accuracy and generalization of the system are constrained by the quality of this pretrained model.\n",
        "- The system may struggle with noisy or ambiguous drawings, leading to potential misclassifications."
      ]
    }
  ],
  "metadata": {
    "accelerator": "GPU",
    "colab": {
      "provenance": []
    },
    "kernelspec": {
      "display_name": "Python 3",
      "name": "python3"
    },
    "language_info": {
      "name": "python"
    }
  },
  "nbformat": 4,
  "nbformat_minor": 0
}