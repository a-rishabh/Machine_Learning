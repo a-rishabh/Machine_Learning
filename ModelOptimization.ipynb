{
  "nbformat": 4,
  "nbformat_minor": 0,
  "metadata": {
    "colab": {
      "provenance": [],
      "gpuType": "T4"
    },
    "kernelspec": {
      "name": "python3",
      "display_name": "Python 3"
    },
    "language_info": {
      "name": "python"
    },
    "accelerator": "GPU"
  },
  "cells": [
    {
      "cell_type": "code",
      "execution_count": null,
      "metadata": {
        "id": "8uARR_1Oy8mp"
      },
      "outputs": [],
      "source": [
        "import torch\n",
        "import torch.nn as nn\n",
        "import torch.optim as optim\n",
        "import torchvision\n",
        "import torchvision.transforms as transforms"
      ]
    },
    {
      "cell_type": "code",
      "source": [
        "torch.manual_seed(42)"
      ],
      "metadata": {
        "colab": {
          "base_uri": "https://localhost:8080/"
        },
        "id": "71EUDpWIz6NH",
        "outputId": "7b06c08d-f8be-4802-c98b-06b18c51a42e"
      },
      "execution_count": null,
      "outputs": [
        {
          "output_type": "execute_result",
          "data": {
            "text/plain": [
              "<torch._C.Generator at 0x782bd8131230>"
            ]
          },
          "metadata": {},
          "execution_count": 2
        }
      ]
    },
    {
      "cell_type": "code",
      "source": [
        "# Define data transformations and load CIFAR-10 dataset\n",
        "transform = transforms.Compose([\n",
        "    transforms.RandomHorizontalFlip(),\n",
        "    transforms.RandomRotation(10),\n",
        "    transforms.ToTensor(),\n",
        "    transforms.Normalize((0.5, 0.5, 0.5), (0.5, 0.5, 0.5))\n",
        "])"
      ],
      "metadata": {
        "id": "Rzf_XUAEz95a"
      },
      "execution_count": null,
      "outputs": []
    },
    {
      "cell_type": "code",
      "source": [
        "train_data = torchvision.datasets.CIFAR10(root='./data', train=True, download=True, transform=transform)\n",
        "train_loader = torch.utils.data.DataLoader(train_data, batch_size=128, shuffle=True)"
      ],
      "metadata": {
        "colab": {
          "base_uri": "https://localhost:8080/"
        },
        "id": "hS23n4GWz_yu",
        "outputId": "40fd1f7c-e655-4518-ec04-cdc0465193ef"
      },
      "execution_count": null,
      "outputs": [
        {
          "output_type": "stream",
          "name": "stdout",
          "text": [
            "Files already downloaded and verified\n"
          ]
        }
      ]
    },
    {
      "cell_type": "code",
      "source": [
        "test_data = torchvision.datasets.CIFAR10(root='./data', train=False, download=True, transform=transform)\n",
        "test_loader = torch.utils.data.DataLoader(test_data, batch_size=128, shuffle=False)"
      ],
      "metadata": {
        "colab": {
          "base_uri": "https://localhost:8080/"
        },
        "id": "8nT24F-n0B_V",
        "outputId": "0ccc96b9-32b4-4d54-b18e-5ff9c3df7eef"
      },
      "execution_count": null,
      "outputs": [
        {
          "output_type": "stream",
          "name": "stdout",
          "text": [
            "Files already downloaded and verified\n"
          ]
        }
      ]
    },
    {
      "cell_type": "code",
      "source": [
        "# Define a simple convolutional neural network\n",
        "class CNN(nn.Module):\n",
        "    def __init__(self):\n",
        "        super(CNN, self).__init__()\n",
        "        self.conv1 = nn.Conv2d(3, 32, kernel_size=3, padding=1)\n",
        "        self.conv2 = nn.Conv2d(32, 64, kernel_size=3, padding=1)\n",
        "        self.pool = nn.MaxPool2d(2, 2)\n",
        "        self.fc1 = nn.Linear(64 * 8 * 8, 512)\n",
        "        self.fc2 = nn.Linear(512, 10)\n",
        "\n",
        "    def forward(self, x):\n",
        "        x = self.pool(torch.relu(self.conv1(x)))\n",
        "        x = self.pool(torch.relu(self.conv2(x)))\n",
        "        x = x.view(-1, 64 * 8 * 8)\n",
        "        x = torch.relu(self.fc1(x))\n",
        "        x = self.fc2(x)\n",
        "        return x"
      ],
      "metadata": {
        "id": "5rLGTobq5wQT"
      },
      "execution_count": null,
      "outputs": []
    },
    {
      "cell_type": "code",
      "source": [
        "# Define a simplified ResNet block\n",
        "class ResNetBlock(nn.Module):\n",
        "    def __init__(self, in_channels, out_channels, stride):\n",
        "        super(ResNetBlock, self).__init__()\n",
        "        self.conv1 = nn.Conv2d(in_channels, out_channels, kernel_size=3, stride=stride, padding=1, bias=False)\n",
        "        self.bn1 = nn.BatchNorm2d(out_channels)\n",
        "        self.relu = nn.ReLU(inplace=True)\n",
        "        self.conv2 = nn.Conv2d(out_channels, out_channels, kernel_size=3, stride=1, padding=1, bias=False)\n",
        "        self.bn2 = nn.BatchNorm2d(out_channels)\n",
        "        self.downsample = nn.Sequential()\n",
        "        if stride != 1 or in_channels != out_channels:\n",
        "            self.downsample = nn.Sequential(\n",
        "                nn.Conv2d(in_channels, out_channels, kernel_size=1, stride=stride, bias=False),\n",
        "                nn.BatchNorm2d(out_channels)\n",
        "            )\n",
        "\n",
        "    def forward(self, x):\n",
        "        identity = x\n",
        "        out = self.conv1(x)\n",
        "        out = self.bn1(out)\n",
        "        out = self.relu(out)\n",
        "        out = self.conv2(out)\n",
        "        out = self.bn2(out)\n",
        "        out += self.downsample(identity)\n",
        "        out = self.relu(out)\n",
        "        return out"
      ],
      "metadata": {
        "id": "K-9NZmaq0Glu"
      },
      "execution_count": null,
      "outputs": []
    },
    {
      "cell_type": "code",
      "source": [
        "# Define the ResNet model\n",
        "class ResNet(nn.Module):\n",
        "    def __init__(self, block, num_blocks, num_classes=10):\n",
        "        super(ResNet, self).__init__()\n",
        "        self.in_channels = 32\n",
        "        self.conv1 = nn.Conv2d(3, 32, kernel_size=3, stride=1, padding=1, bias=False)\n",
        "        self.bn1 = nn.BatchNorm2d(32)\n",
        "        self.relu = nn.ReLU(inplace=True)\n",
        "        self.layer1 = self.make_layer(block, 32, num_blocks[0], stride=1)\n",
        "        self.layer2 = self.make_layer(block, 64, num_blocks[1], stride=2)\n",
        "        self.layer3 = self.make_layer(block, 128, num_blocks[2], stride=2)\n",
        "        self.avg_pool = nn.AdaptiveAvgPool2d((1, 1))\n",
        "        self.fc = nn.Linear(128, num_classes)\n",
        "\n",
        "    def make_layer(self, block, out_channels, num_blocks, stride):\n",
        "        strides = [stride] + [1] * (num_blocks - 1)\n",
        "        layers = []\n",
        "        for stride in strides:\n",
        "            layers.append(block(self.in_channels, out_channels, stride))\n",
        "            self.in_channels = out_channels\n",
        "        return nn.Sequential(*layers)\n",
        "\n",
        "    def forward(self, x):\n",
        "        x = self.conv1(x)\n",
        "        x = self.bn1(x)\n",
        "        x = self.relu(x)\n",
        "        x = self.layer1(x)\n",
        "        x = self.layer2(x)\n",
        "        x = self.layer3(x)\n",
        "        x = self.avg_pool(x)\n",
        "        x = x.view(x.size(0), -1)\n",
        "        x = self.fc(x)\n",
        "        return x"
      ],
      "metadata": {
        "id": "kkexqIgy0YtP"
      },
      "execution_count": null,
      "outputs": []
    },
    {
      "cell_type": "code",
      "source": [
        "def test(network, test_loader, loss_function):\n",
        "  network.eval() #updates any network layers that behave differently in training and execution\n",
        "  test_loss = 0\n",
        "  num_batches = 0\n",
        "  with torch.no_grad():\n",
        "    for data, target in test_loader:\n",
        "      output = network(data)\n",
        "      test_loss += loss_function(output, target).item()\n",
        "      pred = output.data.max(1, keepdim=True)[1]\n",
        "      num_batches += 1\n",
        "  test_loss /= num_batches\n",
        "  #print('\\nTest set: Avg. loss: {:.4f})\\n'.format(test_loss))\n",
        "  return test_loss\n",
        "\n",
        "def logResults(epoch, num_epochs, train_loss, train_loss_history, test_loss, test_loss_history, epoch_counter, print_interval=1000):\n",
        "  if (epoch%print_interval == 0):  print('Epoch [%d/%d], Train Loss: %.4f, Test Loss: %.4f' %(epoch+1, num_epochs, train_loss, test_loss))\n",
        "  train_loss_history.append(train_loss)\n",
        "  test_loss_history.append(test_loss)\n",
        "  epoch_counter.append(epoch)\n",
        "\n",
        "def graphLoss(epoch_counter, train_loss_hist, test_loss_hist, loss_name=\"Loss\", start = 0):\n",
        "  fig = plt.figure()\n",
        "  plt.plot(epoch_counter[start:], train_loss_hist[start:], color='blue')\n",
        "  plt.plot(epoch_counter[start:], test_loss_hist[start:], color='red')\n",
        "  plt.legend(['Train Loss', 'Test Loss'], loc='upper right')\n",
        "  plt.xlabel('#Epochs')\n",
        "  plt.ylabel(loss_name)\n",
        "\n",
        "def computeLabelAccuracy(networkModel, data_loader, label_text=\"\"):\n",
        "  test_loss = 0\n",
        "  correct = 0\n",
        "  with torch.no_grad():\n",
        "    for data, target in data_loader:\n",
        "      output = networkModel(data)\n",
        "      pred = output.data.max(1, keepdim=True)[1]  #Check if the maximum/largest output class matches the label\n",
        "      correct += pred.eq(target.data.view_as(pred)).sum()\n",
        "  print('\\n{}: Accuracy: {}/{} ({:.1f}%)'.format(\n",
        "    label_text, correct, len(data_loader.dataset),\n",
        "    100. * correct / len(data_loader.dataset)))\n",
        "\n",
        "def graphConfusionMatrix(test_datset, num_samples=10000):\n",
        "  data_generator = torch.utils.data.DataLoader(test_datset, batch_size=num_samples)\n",
        "  data_enumerator = enumerate(data_generator)\n",
        "  _, (images,labels) = next(data_enumerator)\n",
        "  with torch.no_grad():\n",
        "      pred_catigories = network(images) #all 10 values\n",
        "      pred_labels = pred_catigories.data.max(1, keepdim=True)[1] #only the highest value is the final prediction\n",
        "  conf_mat = confusion_matrix(labels.numpy(), pred_labels.numpy(), normalize = \"pred\")\n",
        "  plt.figure(figsize=(8,5))\n",
        "  sns.heatmap(conf_mat, annot=True, fmt=\"0.2f\", xticklabels = classes, yticklabels = classes,\n",
        "              cmap = \"gnuplot\") #colormaps: gnuplot hot RdPu inferno viridis BuPu RdBu_r coolwarm\n",
        "  plt.xlabel(\"Target Class\")\n",
        "  plt.ylabel(\"Predicted Class\")"
      ],
      "metadata": {
        "id": "R6iFLyy7TgvU"
      },
      "execution_count": null,
      "outputs": []
    },
    {
      "cell_type": "code",
      "source": [
        "def train(model,  train_loader, loss_function, optimize, batch_logging = 100):\n",
        "  # model.train() #updates any network layers that behave differently in training and execution\n",
        "  avg_loss = 0\n",
        "  num_batches = 0\n",
        "  for epoch in range(num_epochs):\n",
        "    model.train()\n",
        "    for images, labels in train_loader:\n",
        "      images, labels = images.to(device), labels.to(device)\n",
        "      optimizer.zero_grad()                            # Gradients need to be reset each batch\n",
        "      outputs = model(images)                 # Forward pass: compute the output class given a image\n",
        "      loss = loss_function(outputs, labels)  # Compute the loss: difference between the output and correct result\n",
        "      loss.backward()                                  # Backward pass: compute the gradients of the model with respect to the loss\n",
        "      optimizer.step()\n",
        "      avg_loss += loss.item()\n",
        "      num_batches += 1\n",
        "      if ((batch+1)%batch_logging == 0): #Print info every \"batch_logging\" steps [NEW]\n",
        "        print('Batch [%d/%d], Train Loss: %.4f' %(batch+1, len(data_generator.dataset)/len(target_output), avg_loss/num_batches))\n",
        "  return avg_loss/num_batches"
      ],
      "metadata": {
        "id": "GDYXmf4MTi-Y"
      },
      "execution_count": null,
      "outputs": []
    },
    {
      "cell_type": "code",
      "source": [
        "def trainAndGraph(network, training_generator, testing_generator, loss_function, optimizer, num_epochs, learning_rate, early_stopping=True, logging_interval=1):\n",
        "  #Arrays to store training history\n",
        "  test_loss_history = []\n",
        "  epoch_counter = []\n",
        "  train_loss_history = []\n",
        "  last_loss = 999999\n",
        "  best_loss = 999999\n",
        "  for epoch in range(num_epochs):\n",
        "    avg_loss = train(network, training_generator, loss_function, optimizer)\n",
        "    test_loss = test(network, testing_generator, loss_function)\n",
        "    logResults(epoch, num_epochs, avg_loss, train_loss_history, test_loss, test_loss_history, epoch_counter, logging_interval)\n",
        "    if (early_stopping and test_loss > last_loss):\n",
        "      break\n",
        "    if (test_loss < best_loss):\n",
        "      best_loss = test_loss\n",
        "      torch.save(network.state_dict(), 'best_model.pt')\n",
        "    last_loss = test_loss\n",
        "    old_params = network.parameters()\n",
        "\n",
        "  graphLoss(epoch_counter, train_loss_history, test_loss_history)"
      ],
      "metadata": {
        "id": "kpaGhxBLTlGY"
      },
      "execution_count": null,
      "outputs": []
    },
    {
      "cell_type": "code",
      "source": [
        "# Initialize the ResNet model, loss function, and optimizer\n",
        "model = ResNet(ResNetBlock, [2, 2, 2])\n",
        "criterion = nn.CrossEntropyLoss()\n",
        "optimizer = optim.Adam(model.parameters(), lr=0.0014)"
      ],
      "metadata": {
        "id": "lb1-Lzg00cL7"
      },
      "execution_count": null,
      "outputs": []
    },
    {
      "cell_type": "code",
      "source": [
        "# Move the model to GPU\n",
        "device = torch.device(\"cuda\" if torch.cuda.is_available() else \"cpu\")\n",
        "model.to(device)"
      ],
      "metadata": {
        "id": "wlS-JY4w-mSg"
      },
      "execution_count": null,
      "outputs": []
    },
    {
      "cell_type": "code",
      "source": [
        "# Train the ResNet model\n",
        "num_epochs = 15\n",
        "avg_loss = 0\n",
        "num_batches = 0\n",
        "\n",
        "for epoch in range(num_epochs):\n",
        "    model.train()\n",
        "    for images, labels in train_loader:\n",
        "        images, labels = images.to(device), labels.to(device)\n",
        "        optimizer.zero_grad()\n",
        "        outputs = model(images)\n",
        "        loss = criterion(outputs, labels)\n",
        "        loss.backward()\n",
        "        optimizer.step()\n",
        "        avg_loss += loss.item()\n",
        "        num_batches += 1\n",
        "\n",
        "\n",
        "# Evaluate the ResNet model on the test set\n",
        "model.eval()\n",
        "correct = 0\n",
        "total = 0\n",
        "test_loss = 0\n",
        "num_test_batches = 0\n",
        "\n",
        "with torch.no_grad():\n",
        "    for images, labels in test_loader:\n",
        "        images, labels = images.to(device), labels.to(device)\n",
        "        outputs = model(images)\n",
        "        test_loss = criterion(outputs, labels).item()\n",
        "        _, predicted = torch.max(outputs.data, 1)\n",
        "        total += labels.size(0)\n",
        "        correct += (predicted == labels).sum().item()\n",
        "        num_test_batches += 1\n",
        "        test_loss /= num_test_batches\n",
        "\n",
        "accuracy = correct / total * 100\n",
        "print(f'Testing Accuracy (ResNet): {accuracy:.2f}%')"
      ],
      "metadata": {
        "id": "88YI1MqP0e6g",
        "colab": {
          "base_uri": "https://localhost:8080/"
        },
        "outputId": "bcef8a8a-5dda-43f0-f874-cf5b7fe958a8"
      },
      "execution_count": null,
      "outputs": [
        {
          "output_type": "stream",
          "name": "stdout",
          "text": [
            "Testing Accuracy (ResNet): 85.04%\n"
          ]
        }
      ]
    }
  ]
}