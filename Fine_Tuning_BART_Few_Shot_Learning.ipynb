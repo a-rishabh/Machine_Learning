{
  "nbformat": 4,
  "nbformat_minor": 0,
  "metadata": {
    "colab": {
      "provenance": []
    },
    "kernelspec": {
      "name": "python3",
      "display_name": "Python 3"
    },
    "language_info": {
      "name": "python"
    },
    "accelerator": "GPU",
    "gpuClass": "standard"
  },
  "cells": [
    {
      "cell_type": "markdown",
      "source": [
        "# Introduction\n",
        "\n",
        "We can fine-tune BART to help classify new datasets. Here we are going to use the Hugging Face transformers pipeline again, but train on a very small dataset (~10 examples/country). We will see results almost comparable with training from scratch on the full dataset with 100s or 1000s of names from each country.\n",
        "\n",
        "The idea is that BART, during pre-training, has learned a lot about language, and with just a few examples, we should be able to get good generalization.\n",
        "\n",
        "**Requries**\n",
        "- names_balanced_train.csv\n",
        "- names_balanced_test.csv"
      ],
      "metadata": {
        "id": "zkWQlRCa-Mzu"
      }
    },
    {
      "cell_type": "code",
      "execution_count": null,
      "metadata": {
        "colab": {
          "base_uri": "https://localhost:8080/"
        },
        "id": "usrEkUEV4o50",
        "outputId": "8fe52cfc-5423-4299-f259-9675fe3c0c97"
      },
      "outputs": [
        {
          "output_type": "stream",
          "name": "stdout",
          "text": [
            "Requirement already satisfied: transformers in /usr/local/lib/python3.10/dist-packages (4.35.2)\n",
            "Requirement already satisfied: filelock in /usr/local/lib/python3.10/dist-packages (from transformers) (3.13.1)\n",
            "Requirement already satisfied: huggingface-hub<1.0,>=0.16.4 in /usr/local/lib/python3.10/dist-packages (from transformers) (0.19.4)\n",
            "Requirement already satisfied: numpy>=1.17 in /usr/local/lib/python3.10/dist-packages (from transformers) (1.23.5)\n",
            "Requirement already satisfied: packaging>=20.0 in /usr/local/lib/python3.10/dist-packages (from transformers) (23.2)\n",
            "Requirement already satisfied: pyyaml>=5.1 in /usr/local/lib/python3.10/dist-packages (from transformers) (6.0.1)\n",
            "Requirement already satisfied: regex!=2019.12.17 in /usr/local/lib/python3.10/dist-packages (from transformers) (2023.6.3)\n",
            "Requirement already satisfied: requests in /usr/local/lib/python3.10/dist-packages (from transformers) (2.31.0)\n",
            "Requirement already satisfied: tokenizers<0.19,>=0.14 in /usr/local/lib/python3.10/dist-packages (from transformers) (0.15.0)\n",
            "Requirement already satisfied: safetensors>=0.3.1 in /usr/local/lib/python3.10/dist-packages (from transformers) (0.4.1)\n",
            "Requirement already satisfied: tqdm>=4.27 in /usr/local/lib/python3.10/dist-packages (from transformers) (4.66.1)\n",
            "Requirement already satisfied: fsspec>=2023.5.0 in /usr/local/lib/python3.10/dist-packages (from huggingface-hub<1.0,>=0.16.4->transformers) (2023.6.0)\n",
            "Requirement already satisfied: typing-extensions>=3.7.4.3 in /usr/local/lib/python3.10/dist-packages (from huggingface-hub<1.0,>=0.16.4->transformers) (4.5.0)\n",
            "Requirement already satisfied: charset-normalizer<4,>=2 in /usr/local/lib/python3.10/dist-packages (from requests->transformers) (3.3.2)\n",
            "Requirement already satisfied: idna<4,>=2.5 in /usr/local/lib/python3.10/dist-packages (from requests->transformers) (3.6)\n",
            "Requirement already satisfied: urllib3<3,>=1.21.1 in /usr/local/lib/python3.10/dist-packages (from requests->transformers) (2.0.7)\n",
            "Requirement already satisfied: certifi>=2017.4.17 in /usr/local/lib/python3.10/dist-packages (from requests->transformers) (2023.11.17)\n"
          ]
        }
      ],
      "source": [
        "!pip install transformers"
      ]
    },
    {
      "cell_type": "markdown",
      "source": [
        "# Loading the data.\n",
        "\n",
        "Here we have the usual includes and data loading. Here, I'm using special versions of the names CSV file that have been resampled to be balanced for each of the 9 countries."
      ],
      "metadata": {
        "id": "AZM4v2Em-57s"
      }
    },
    {
      "cell_type": "code",
      "source": [
        "import torch\n",
        "import pandas as pd\n",
        "from transformers import BartTokenizer, BartForSequenceClassification\n",
        "\n",
        "# Set device\n",
        "device = torch.device(\"cuda\" if torch.cuda.is_available() else \"cpu\")\n",
        "\n",
        "# Load data from names.csv\n",
        "train_data_full = pd.read_csv('names_balanced_train.csv',header=None,names=[\"name\",\"country\"])\n",
        "test_data = pd.read_csv('names_balanced_test.csv',header=None,names=[\"name\",\"country\"])"
      ],
      "metadata": {
        "id": "3jYL4OYS9b3x"
      },
      "execution_count": null,
      "outputs": []
    },
    {
      "cell_type": "markdown",
      "source": [
        "We resample the data to use only a few examples from each country. Here the entire training dataset is so small that we can print out the full training data of <100 names (about 11/country) to look over."
      ],
      "metadata": {
        "id": "HKwF4BmrBSHI"
      }
    },
    {
      "cell_type": "code",
      "source": [
        "# Shuffle & Subsample the data\n",
        "train_data = train_data_full.sample(frac=0.0055)\n",
        "print(f\"\\nTraining on {len(train_data)} examples\\n\")\n",
        "\n",
        "print(train_data.sort_values(by=[\"country\"]).to_string())"
      ],
      "metadata": {
        "colab": {
          "base_uri": "https://localhost:8080/"
        },
        "id": "0OAkxr9X9dmf",
        "outputId": "6ce07ddd-3370-486b-a70f-4352896104d1"
      },
      "execution_count": null,
      "outputs": [
        {
          "output_type": "stream",
          "name": "stdout",
          "text": [
            "\n",
            "Training on 99 examples\n",
            "\n",
            "               name     country\n",
            "1246       Unsworth     English\n",
            "1494          Saleh     English\n",
            "1740          Bloom     English\n",
            "871            Donn     English\n",
            "1611         Evrard     English\n",
            "1094        Bithell     English\n",
            "1972       Benjamin     English\n",
            "1795    Ravenscroft     English\n",
            "551          Durand     English\n",
            "1199        Maguire     English\n",
            "247        Maddocks     English\n",
            "2039       Faucheux      French\n",
            "3026         Fabron      French\n",
            "2863       Rousseau      French\n",
            "3157      Pettigrew      French\n",
            "2217       Gosselin      French\n",
            "2470      Delacroix      French\n",
            "2061        Herbert      French\n",
            "2558       Levesque      French\n",
            "2808       Deforest      French\n",
            "3832       Levesque      French\n",
            "2923          Reyer      French\n",
            "2174      Beauchene      French\n",
            "2895    Archambault      French\n",
            "4931           Papp      German\n",
            "5512         Mohren      German\n",
            "5823         Stueck      German\n",
            "4898      Heinrichs      German\n",
            "5668        Stenger      German\n",
            "4996           Feld      German\n",
            "4364         Walter      German\n",
            "5415          Kunze      German\n",
            "5057          Brant      German\n",
            "4632          Loewe      German\n",
            "4602       Albrecht      German\n",
            "6347         Rotolo     Italian\n",
            "6666         Poggio     Italian\n",
            "6070        Palumbo     Italian\n",
            "7876         Aiolfi     Italian\n",
            "6848     Napoletani     Italian\n",
            "7795       Borgogni     Italian\n",
            "6407        Colombo     Italian\n",
            "7720          Somma     Italian\n",
            "7898      Acciaioli     Italian\n",
            "9557      Wakatsuki    Japanese\n",
            "8266        Masuzoe    Japanese\n",
            "8401       Hamamoto    Japanese\n",
            "8040       Ichihara    Japanese\n",
            "8746         Masuno    Japanese\n",
            "9525      Nishihara    Japanese\n",
            "9728           Ohka    Japanese\n",
            "9405        Matsuda    Japanese\n",
            "10123           Rim      Korean\n",
            "10882            Ku      Korean\n",
            "10617         Hyun       Korean\n",
            "10801          Moon      Korean\n",
            "11045         Hyun       Korean\n",
            "10954           Son      Korean\n",
            "11025           San      Korean\n",
            "10691          Youn      Korean\n",
            "11472           Yeo      Korean\n",
            "10455          Moon      Korean\n",
            "11664          Ngai      Korean\n",
            "11043           Kim      Korean\n",
            "12455        Piatek      Polish\n",
            "12339      Ziemniak      Polish\n",
            "12480    Malinowski      Polish\n",
            "12551        Stanek      Polish\n",
            "12271        Koziol      Polish\n",
            "13967        Paszek      Polish\n",
            "12036      Kasprzak      Polish\n",
            "13457      Adamczyk      Polish\n",
            "13458        Kaczka      Polish\n",
            "12561  Grzeskiewicz      Polish\n",
            "13896     Zielinski      Polish\n",
            "12929      Maslanka      Polish\n",
            "13695       Chlebek      Polish\n",
            "14373        Medina     Spanish\n",
            "15200    Villalobos     Spanish\n",
            "15603         Pavia     Spanish\n",
            "15035        Garcia     Spanish\n",
            "14196       Ventura     Spanish\n",
            "14484        Ortega     Spanish\n",
            "14765       Antunez     Spanish\n",
            "15149        Obando     Spanish\n",
            "15356       Fuentes     Spanish\n",
            "14276        Guerra     Spanish\n",
            "14298       Mendoza     Spanish\n",
            "14039        Olguin     Spanish\n",
            "17555           Bui  Vietnamese\n",
            "17245         Quang  Vietnamese\n",
            "17722           Sai  Vietnamese\n",
            "17086          Than  Vietnamese\n",
            "16439         Quyen  Vietnamese\n",
            "17693           Dao  Vietnamese\n",
            "17208          Thuy  Vietnamese\n",
            "16105            Do  Vietnamese\n",
            "17432        Truong  Vietnamese\n",
            "16705           Dam  Vietnamese\n"
          ]
        }
      ]
    },
    {
      "cell_type": "markdown",
      "source": [
        "# Training\n",
        "\n",
        "Here we use the BART pre-trained transformer architecture. Here, we are using a \"pure\" part that has only gone through the generative pre-training, but no supervised fine-tuning.\n",
        "\n",
        "The `BartForSequenceClassification` will load a special Hugging Face pipeline that already has a classification output for us to train. When we load it, Hugging Face actually gives us an explicit reminder that this model only has valid weights for the BART encoding, and that we still need to train the classification weights."
      ],
      "metadata": {
        "id": "iOH38gGeBnV6"
      }
    },
    {
      "cell_type": "code",
      "source": [
        "# Load BART tokenizer and model\n",
        "num_countries = train_data['country'].nunique()\n",
        "tokenizer = BartTokenizer.from_pretrained('facebook/bart-large')\n",
        "model = BartForSequenceClassification.from_pretrained('facebook/bart-large', num_labels=num_countries)\n",
        "mode = model.to(device)\n"
      ],
      "metadata": {
        "colab": {
          "base_uri": "https://localhost:8080/"
        },
        "id": "0_1xzyq4Bmx2",
        "outputId": "284e8417-a381-43a5-d776-d8dc0bb050e4"
      },
      "execution_count": null,
      "outputs": [
        {
          "output_type": "stream",
          "name": "stderr",
          "text": [
            "Some weights of BartForSequenceClassification were not initialized from the model checkpoint at facebook/bart-large and are newly initialized: ['classification_head.out_proj.weight', 'classification_head.out_proj.bias', 'classification_head.dense.bias', 'classification_head.dense.weight']\n",
            "You should probably TRAIN this model on a down-stream task to be able to use it for predictions and inference.\n"
          ]
        }
      ]
    },
    {
      "cell_type": "markdown",
      "source": [
        "We need to use the `tokenizer` that BART expects to turn our names into tokens that BART understands (above you can see that loading the `bart-large` model returns a tokenizer to use). We also need to create a one-hot encoding of the country labels."
      ],
      "metadata": {
        "id": "ynvQUZygFUCP"
      }
    },
    {
      "cell_type": "code",
      "source": [
        "# Convert country column to one-hot encoding\n",
        "one_hot_train = pd.get_dummies(train_data['country'])\n",
        "one_hot_test = pd.get_dummies(test_data['country'])\n",
        "\n",
        "# Tokenize names and convert to PyTorch dataset\n",
        "inputs_train = tokenizer(list(train_data['name']), return_tensors='pt', padding=True)\n",
        "labels_train = torch.tensor(one_hot_train.values, dtype=torch.float32)\n",
        "dataset_train = torch.utils.data.TensorDataset(inputs_train['input_ids'], inputs_train['attention_mask'], labels_train)\n",
        "inputs_test = tokenizer(list(test_data['name']), return_tensors='pt', padding=True)\n",
        "labels_test = torch.tensor(one_hot_test.values, dtype=torch.float32)\n",
        "dataset_test = torch.utils.data.TensorDataset(inputs_test['input_ids'], inputs_test['attention_mask'], labels_test)\n"
      ],
      "metadata": {
        "id": "oIBDDtzbFdAJ"
      },
      "execution_count": null,
      "outputs": []
    },
    {
      "cell_type": "markdown",
      "source": [
        "Now that we have the data and labels encoded, it's time to train. Recall from last week that training on the entire dataset (from scratch) gave us between 65-70% testing accuracy -- but that needed 100s or even 1000s of instances of labeled name data. How well can we do with only about 10 examples for each country, but backed by the power of BART?"
      ],
      "metadata": {
        "id": "5tVO7wZrGjTV"
      }
    },
    {
      "cell_type": "code",
      "source": [
        "\n",
        "# Define training parameters\n",
        "epochs = 10\n",
        "batch_size = 64\n",
        "learning_rate = 1e-4\n",
        "\n",
        "# Train model\n",
        "optimizer = torch.optim.Adam(model.parameters(), lr=learning_rate)\n",
        "data_loader_train = torch.utils.data.DataLoader(dataset_train, batch_size=batch_size, shuffle=True)\n",
        "data_loader_test = torch.utils.data.DataLoader(dataset_test, batch_size=batch_size)\n",
        "\n",
        "print(f\"\\nTraining on {len(train_data)} examples\\n\")\n",
        "print(\"Num. Parameters:\", sum(p.numel() for p in model.parameters() if p.requires_grad))\n",
        "\n",
        "for epoch in range(epochs):\n",
        "    # Compute average loss after 100 steps\n",
        "    avg_loss = 0\n",
        "    for step, batch in enumerate(data_loader_train):\n",
        "        input_ids, attention_mask, labels = batch\n",
        "        input_ids, attention_mask, labels = input_ids.to(device), attention_mask.to(device), labels.to(device)\n",
        "        outputs = model(input_ids, attention_mask=attention_mask, labels=labels)\n",
        "        loss = outputs[0]\n",
        "        avg_loss += loss.item()\n",
        "        if step % 100 == 0:\n",
        "            print(f\"Step {step}/{len(data_loader_train)} Loss {loss} Avg Train Loss {avg_loss / (step + 1)}\")\n",
        "        optimizer.zero_grad()\n",
        "        loss.backward()\n",
        "        optimizer.step()\n",
        "    loss = avg_loss / len(data_loader_train)\n",
        "    # Print loss after every epoch\n",
        "    print(f\"Epoch {epoch+1} Test Loss {loss}\")\n",
        "    # Compute accuracy after every epoch\n",
        "    correct = 0\n",
        "    total = 0\n",
        "    for step, batch in enumerate(data_loader_test):\n",
        "        input_ids, attention_mask, labels = batch\n",
        "        input_ids, attention_mask, labels = input_ids.to(device), attention_mask.to(device), labels.to(device)\n",
        "        outputs = model(input_ids, attention_mask=attention_mask)\n",
        "        predicted = torch.argmax(outputs[0], dim=1)\n",
        "        total += labels.size(0)\n",
        "        correct += (predicted == torch.argmax(labels, dim=1)).sum().item()\n",
        "    print(f\"Test Accuracy {100*correct/total}%\\n\")\n",
        "\n",
        "# Save model\n",
        "model.save_pretrained('fine-tuned-bart_countries')"
      ],
      "metadata": {
        "colab": {
          "base_uri": "https://localhost:8080/",
          "height": 489
        },
        "id": "0Ho-PYX688Tc",
        "outputId": "38de46cf-9568-4c0c-de56-2ce1c6e5e294"
      },
      "execution_count": null,
      "outputs": [
        {
          "output_type": "stream",
          "name": "stdout",
          "text": [
            "\n",
            "Training on 99 examples\n",
            "\n",
            "Num. Parameters: 407350281\n",
            "Step 0/155 Loss 0.7047230005264282 Avg Train Loss 0.7047230005264282\n",
            "Step 100/155 Loss 0.05723179876804352 Avg Train Loss 0.13394322591179078\n",
            "Epoch 1 Test Loss 0.10967061162715958\n",
            "Test Accuracy 70.33333333333333%\n",
            "\n",
            "Step 0/155 Loss 0.017574889585375786 Avg Train Loss 0.017574889585375786\n"
          ]
        },
        {
          "output_type": "error",
          "ename": "KeyboardInterrupt",
          "evalue": "ignored",
          "traceback": [
            "\u001b[0;31m---------------------------------------------------------------------------\u001b[0m",
            "\u001b[0;31mKeyboardInterrupt\u001b[0m                         Traceback (most recent call last)",
            "\u001b[0;32m<ipython-input-16-08b4ac5a23f0>\u001b[0m in \u001b[0;36m<cell line: 14>\u001b[0;34m()\u001b[0m\n\u001b[1;32m     17\u001b[0m     \u001b[0;32mfor\u001b[0m \u001b[0mstep\u001b[0m\u001b[0;34m,\u001b[0m \u001b[0mbatch\u001b[0m \u001b[0;32min\u001b[0m \u001b[0menumerate\u001b[0m\u001b[0;34m(\u001b[0m\u001b[0mdata_loader_train\u001b[0m\u001b[0;34m)\u001b[0m\u001b[0;34m:\u001b[0m\u001b[0;34m\u001b[0m\u001b[0;34m\u001b[0m\u001b[0m\n\u001b[1;32m     18\u001b[0m         \u001b[0minput_ids\u001b[0m\u001b[0;34m,\u001b[0m \u001b[0mattention_mask\u001b[0m\u001b[0;34m,\u001b[0m \u001b[0mlabels\u001b[0m \u001b[0;34m=\u001b[0m \u001b[0mbatch\u001b[0m\u001b[0;34m\u001b[0m\u001b[0;34m\u001b[0m\u001b[0m\n\u001b[0;32m---> 19\u001b[0;31m         \u001b[0minput_ids\u001b[0m\u001b[0;34m,\u001b[0m \u001b[0mattention_mask\u001b[0m\u001b[0;34m,\u001b[0m \u001b[0mlabels\u001b[0m \u001b[0;34m=\u001b[0m \u001b[0minput_ids\u001b[0m\u001b[0;34m.\u001b[0m\u001b[0mto\u001b[0m\u001b[0;34m(\u001b[0m\u001b[0mdevice\u001b[0m\u001b[0;34m)\u001b[0m\u001b[0;34m,\u001b[0m \u001b[0mattention_mask\u001b[0m\u001b[0;34m.\u001b[0m\u001b[0mto\u001b[0m\u001b[0;34m(\u001b[0m\u001b[0mdevice\u001b[0m\u001b[0;34m)\u001b[0m\u001b[0;34m,\u001b[0m \u001b[0mlabels\u001b[0m\u001b[0;34m.\u001b[0m\u001b[0mto\u001b[0m\u001b[0;34m(\u001b[0m\u001b[0mdevice\u001b[0m\u001b[0;34m)\u001b[0m\u001b[0;34m\u001b[0m\u001b[0;34m\u001b[0m\u001b[0m\n\u001b[0m\u001b[1;32m     20\u001b[0m         \u001b[0moutputs\u001b[0m \u001b[0;34m=\u001b[0m \u001b[0mmodel\u001b[0m\u001b[0;34m(\u001b[0m\u001b[0minput_ids\u001b[0m\u001b[0;34m,\u001b[0m \u001b[0mattention_mask\u001b[0m\u001b[0;34m=\u001b[0m\u001b[0mattention_mask\u001b[0m\u001b[0;34m,\u001b[0m \u001b[0mlabels\u001b[0m\u001b[0;34m=\u001b[0m\u001b[0mlabels\u001b[0m\u001b[0;34m)\u001b[0m\u001b[0;34m\u001b[0m\u001b[0;34m\u001b[0m\u001b[0m\n\u001b[1;32m     21\u001b[0m         \u001b[0mloss\u001b[0m \u001b[0;34m=\u001b[0m \u001b[0moutputs\u001b[0m\u001b[0;34m[\u001b[0m\u001b[0;36m0\u001b[0m\u001b[0;34m]\u001b[0m\u001b[0;34m\u001b[0m\u001b[0;34m\u001b[0m\u001b[0m\n",
            "\u001b[0;31mKeyboardInterrupt\u001b[0m: "
          ]
        }
      ]
    },
    {
      "cell_type": "markdown",
      "source": [
        "This is actually some of the best accuracy we've seen on this dataset! To be fair, this is a 40,000,000 parameter model ... but, thanks to generative pre-training, we only need a few samples to train the model on our task.\n",
        "\n",
        "You can try to train on the entire dataset on the pre-trained BART model to see how well you do, but remember 100% accuracy is impossible as some names show up in multiple countries (\"Bach\" is both German and Viennese). Personally, I was able to see results in the high 70s, but that took lots of data. For many cases, I would only need to label 100x fewer examples if it only meant losing a little bit of accuracy."
      ],
      "metadata": {
        "id": "tvtm9AeCDK8B"
      }
    },
    {
      "cell_type": "markdown",
      "source": [
        "# Testing & Evaluation\n",
        "\n",
        "We can load our trained version of the BART classification model if we like:"
      ],
      "metadata": {
        "id": "beTsMkTXH8MQ"
      }
    },
    {
      "cell_type": "code",
      "source": [
        "# Load the model\n",
        "# model = BartForSequenceClassification.from_pretrained('fine-tuned-bart_countries')\n",
        "# model.to(device)"
      ],
      "metadata": {
        "id": "u0_ORNPg__Sv"
      },
      "execution_count": null,
      "outputs": []
    },
    {
      "cell_type": "markdown",
      "source": [
        "First, we can compute the overall testing accuracy:"
      ],
      "metadata": {
        "id": "dhIEazViIAPT"
      }
    },
    {
      "cell_type": "code",
      "source": [
        "model.eval()\n",
        "correct = 0\n",
        "total = 0\n",
        "for step, batch in enumerate(data_loader_test):\n",
        "    input_ids, attention_mask, labels = batch\n",
        "    input_ids, attention_mask, labels = input_ids.to(device), attention_mask.to(device), labels.to(device)\n",
        "    outputs = model(input_ids, attention_mask=attention_mask)\n",
        "    predicted = torch.argmax(outputs[0], dim=1)\n",
        "    total += labels.size(0)\n",
        "    correct += (predicted == torch.argmax(labels, dim=1)).sum().item()\n",
        "\n",
        "print(f\"Accuracy {correct/total}\")"
      ],
      "metadata": {
        "colab": {
          "base_uri": "https://localhost:8080/"
        },
        "id": "dFkdGxNOHVoo",
        "outputId": "4cd68bf9-a209-4c19-d060-75fc863e343b"
      },
      "execution_count": null,
      "outputs": [
        {
          "output_type": "stream",
          "name": "stdout",
          "text": [
            "Accuracy 0.7033333333333334\n"
          ]
        }
      ]
    },
    {
      "cell_type": "markdown",
      "source": [
        "We can try some example names:"
      ],
      "metadata": {
        "id": "vIpLeJmTIDQO"
      }
    },
    {
      "cell_type": "code",
      "source": [
        "# Test model on new names\n",
        "new_names = [\"Stephen\", \"Krzyzewski\", \"Satoshi\", \"Nguyen\", \"Rivera\", \"Monet\"]\n",
        "inputs = tokenizer(new_names, return_tensors='pt', padding=True)\n",
        "outputs = model(inputs['input_ids'].to(device), attention_mask=inputs['attention_mask'].to(device))\n",
        "predicted = torch.argmax(outputs[0], dim=1)\n",
        "for i in range(len(new_names)):\n",
        "  print(f\"{new_names[i]}: {one_hot_train.columns[predicted[i].item()]}\")"
      ],
      "metadata": {
        "colab": {
          "base_uri": "https://localhost:8080/"
        },
        "id": "xqM5GBmfHbkX",
        "outputId": "9a27b113-1e3e-4404-b60b-93b430712728"
      },
      "execution_count": null,
      "outputs": [
        {
          "output_type": "stream",
          "name": "stdout",
          "text": [
            "Stephen: English\n",
            "Krzyzewski: Polish\n",
            "Satoshi: Japanese\n",
            "Nguyen: Vietnamese\n",
            "Rivera: Spanish\n",
            "Monet: French\n"
          ]
        }
      ]
    },
    {
      "cell_type": "markdown",
      "source": [
        "And we can look at our overall confusion matrix:"
      ],
      "metadata": {
        "id": "-NMkE03oIFgE"
      }
    },
    {
      "cell_type": "code",
      "source": [
        "# Make confusion matrix\n",
        "confusion_matrix = torch.zeros(len(one_hot_test.columns), len(one_hot_test.columns))\n",
        "for step, batch in enumerate(data_loader_test):\n",
        "    input_ids, attention_mask, labels = batch\n",
        "    input_ids, attention_mask, labels = input_ids.to(device), attention_mask.to(device), labels.to(device)\n",
        "    outputs = model(input_ids, attention_mask=attention_mask)\n",
        "    predicted = torch.argmax(outputs[0], dim=1)\n",
        "    for i in range(len(predicted)):\n",
        "        confusion_matrix[torch.argmax(labels[i])][predicted[i]] += 1\n",
        "\n",
        "print(confusion_matrix)\n",
        "\n",
        "# Plot confusion matrix\n",
        "import matplotlib.pyplot as plt\n",
        "import numpy as np\n",
        "import seaborn as sns\n",
        "plt.figure(figsize=(10,10))\n",
        "sns.heatmap(confusion_matrix, annot=True, fmt=\".0f\", linewidths=.5, square = True, cmap = 'Blues_r', xticklabels=one_hot_train.columns, yticklabels=one_hot_train.columns)\n",
        "plt.ylabel('Actual label')\n",
        "plt.xlabel('Predicted label')\n",
        "plt.show()\n"
      ],
      "metadata": {
        "colab": {
          "base_uri": "https://localhost:8080/",
          "height": 804
        },
        "id": "9z3n6IiFQJdH",
        "outputId": "4f9d2adf-8445-4c0b-d0d5-da5e099c56ad"
      },
      "execution_count": null,
      "outputs": [
        {
          "output_type": "stream",
          "name": "stdout",
          "text": [
            "tensor([[174.,  17.,   6.,   1.,   0.,   0.,   2.,   0.,   0.],\n",
            "        [ 51., 130.,  11.,   0.,   0.,   2.,   1.,   0.,   5.],\n",
            "        [ 51.,  16., 124.,   2.,   0.,   0.,   3.,   4.,   0.],\n",
            "        [  2.,   3.,   1., 178.,   0.,   0.,   3.,  13.,   0.],\n",
            "        [ 13.,   0.,   0.,  17., 155.,   4.,   1.,  10.,   0.],\n",
            "        [ 19.,   0.,   0.,   0.,  10., 120.,   0.,   0.,  51.],\n",
            "        [ 21.,   8.,   0.,   4.,  15.,   0., 147.,   0.,   5.],\n",
            "        [ 26.,  15.,   0.,  27.,   4.,   0.,   0., 128.,   0.],\n",
            "        [  0.,  13.,   0.,  16.,   0.,   0.,   0.,   0., 171.]])\n"
          ]
        },
        {
          "output_type": "display_data",
          "data": {
            "text/plain": [
              "<Figure size 1000x1000 with 2 Axes>"
            ],
            "image/png": "[encoded data removed]"
          },
          "metadata": {}
        }
      ]
    },
    {
      "cell_type": "markdown",
      "source": [
        "Of course, even BART with supervised fine-tuning is still not 100% accurate, but, to me, all the results look very good even. Honestly, the results look stellar if you keep in mind how little training data we had (you should try going down to 30-50 samples and see how well it does still). Exploiting generative pre-training approaches like GPT and BART can be a big win for ML tasks, where large datasets are not possible."
      ],
      "metadata": {
        "id": "t0Ibp9YEIJ7o"
      }
    }
  ]
}